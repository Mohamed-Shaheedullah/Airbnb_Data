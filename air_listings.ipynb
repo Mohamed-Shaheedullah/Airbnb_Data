{
 "cells": [
  {
   "cell_type": "markdown",
   "id": "7db14958-dfed-4740-a120-b1a8fbd096d5",
   "metadata": {
    "tags": []
   },
   "source": [
    "# Preparation of Airbnb Data from Maven Analystics"
   ]
  },
  {
   "cell_type": "markdown",
   "id": "868533a3-3051-4fa4-9f8d-a270452dc690",
   "metadata": {
    "tags": []
   },
   "source": [
    "### Import libraries"
   ]
  },
  {
   "cell_type": "code",
   "execution_count": 1,
   "id": "b513124e-839d-4d1b-bae3-ed45038926a6",
   "metadata": {},
   "outputs": [],
   "source": [
    "import pandas as pd"
   ]
  },
  {
   "cell_type": "code",
   "execution_count": 2,
   "id": "fbcc3fd7",
   "metadata": {},
   "outputs": [],
   "source": [
    "import matplotlib.pyplot as plt"
   ]
  },
  {
   "cell_type": "markdown",
   "id": "4512bec5-6c49-467c-9367-a4dbde659dde",
   "metadata": {
    "tags": []
   },
   "source": [
    "### set missing value conditions"
   ]
  },
  {
   "cell_type": "code",
   "execution_count": 3,
   "id": "d73bfefb-33fa-4986-8082-ef577e4d29ff",
   "metadata": {},
   "outputs": [],
   "source": [
    "na_vals = ['NA', 'missing']"
   ]
  },
  {
   "cell_type": "markdown",
   "id": "7b6c573f-015b-46b1-a173-d37745cadee8",
   "metadata": {},
   "source": [
    "### Import File"
   ]
  },
  {
   "cell_type": "code",
   "execution_count": 5,
   "id": "12e08f6f-04f4-4a42-b9a6-ce05d453bf83",
   "metadata": {},
   "outputs": [],
   "source": [
    "# set dtype for two cols because of error, set encoding to Latin becuase of latin characters\n",
    "# PC\n",
    "# air_df = pd.read_csv('C:/Users/conif/Documents/Airbnb_Data/Airbnb Data/Listings.csv', na_values = na_vals,dtype={\"host_response_time\": \"string\", \"district\": \"string\"}, encoding='latin1')\n",
    "# Linux\n",
    "air_df = pd.read_csv('/home/raf/Documents/Airbnb Data/Listings.csv', na_values = na_vals,dtype={\"host_response_time\": \"string\", \"district\": \"string\"}, encoding='latin1')"
   ]
  },
  {
   "cell_type": "markdown",
   "id": "09921555-0e03-424f-89f2-a67f7609a4d0",
   "metadata": {},
   "source": [
    "### List columns"
   ]
  },
  {
   "cell_type": "code",
   "execution_count": 6,
   "id": "d21b0619-b776-4f88-9082-98fc247e5880",
   "metadata": {},
   "outputs": [],
   "source": [
    "# line of code from internet that lists columns with index numbers\n",
    "col_mapping = [f\"{c[0]}:{c[1]}\" for c in enumerate(air_df.columns)]"
   ]
  },
  {
   "cell_type": "code",
   "execution_count": 7,
   "id": "7218dc20-4f88-457b-9cb0-53de350c1e87",
   "metadata": {},
   "outputs": [
    {
     "data": {
      "text/plain": [
       "['0:listing_id',\n",
       " '1:name',\n",
       " '2:host_id',\n",
       " '3:host_since',\n",
       " '4:host_location',\n",
       " '5:host_response_time',\n",
       " '6:host_response_rate',\n",
       " '7:host_acceptance_rate',\n",
       " '8:host_is_superhost',\n",
       " '9:host_total_listings_count',\n",
       " '10:host_has_profile_pic',\n",
       " '11:host_identity_verified',\n",
       " '12:neighbourhood',\n",
       " '13:district',\n",
       " '14:city',\n",
       " '15:latitude',\n",
       " '16:longitude',\n",
       " '17:property_type',\n",
       " '18:room_type',\n",
       " '19:accommodates',\n",
       " '20:bedrooms',\n",
       " '21:amenities',\n",
       " '22:price',\n",
       " '23:minimum_nights',\n",
       " '24:maximum_nights',\n",
       " '25:review_scores_rating',\n",
       " '26:review_scores_accuracy',\n",
       " '27:review_scores_cleanliness',\n",
       " '28:review_scores_checkin',\n",
       " '29:review_scores_communication',\n",
       " '30:review_scores_location',\n",
       " '31:review_scores_value',\n",
       " '32:instant_bookable']"
      ]
     },
     "execution_count": 7,
     "metadata": {},
     "output_type": "execute_result"
    }
   ],
   "source": [
    "col_mapping"
   ]
  },
  {
   "cell_type": "markdown",
   "id": "25f64a0f-7db3-4225-b7e7-7a7172c16617",
   "metadata": {},
   "source": [
    "## Inspect Data"
   ]
  },
  {
   "cell_type": "code",
   "execution_count": 8,
   "id": "ff953ffe-0779-47e3-91bc-5d708381d8a3",
   "metadata": {},
   "outputs": [
    {
     "data": {
      "text/plain": [
       "(279712, 33)"
      ]
     },
     "execution_count": 8,
     "metadata": {},
     "output_type": "execute_result"
    }
   ],
   "source": [
    "# use shape method to get the total number of rows and columns\n",
    "air_df.shape"
   ]
  },
  {
   "cell_type": "code",
   "execution_count": 9,
   "id": "8e722ea0-a81d-4659-adda-be2918783f42",
   "metadata": {},
   "outputs": [
    {
     "data": {
      "text/html": [
       "<div>\n",
       "<style scoped>\n",
       "    .dataframe tbody tr th:only-of-type {\n",
       "        vertical-align: middle;\n",
       "    }\n",
       "\n",
       "    .dataframe tbody tr th {\n",
       "        vertical-align: top;\n",
       "    }\n",
       "\n",
       "    .dataframe thead th {\n",
       "        text-align: right;\n",
       "    }\n",
       "</style>\n",
       "<table border=\"1\" class=\"dataframe\">\n",
       "  <thead>\n",
       "    <tr style=\"text-align: right;\">\n",
       "      <th></th>\n",
       "      <th>listing_id</th>\n",
       "      <th>host_id</th>\n",
       "      <th>host_response_rate</th>\n",
       "      <th>host_acceptance_rate</th>\n",
       "      <th>host_total_listings_count</th>\n",
       "      <th>latitude</th>\n",
       "      <th>longitude</th>\n",
       "      <th>accommodates</th>\n",
       "      <th>bedrooms</th>\n",
       "      <th>price</th>\n",
       "      <th>minimum_nights</th>\n",
       "      <th>maximum_nights</th>\n",
       "      <th>review_scores_rating</th>\n",
       "      <th>review_scores_accuracy</th>\n",
       "      <th>review_scores_cleanliness</th>\n",
       "      <th>review_scores_checkin</th>\n",
       "      <th>review_scores_communication</th>\n",
       "      <th>review_scores_location</th>\n",
       "      <th>review_scores_value</th>\n",
       "    </tr>\n",
       "  </thead>\n",
       "  <tbody>\n",
       "    <tr>\n",
       "      <th>count</th>\n",
       "      <td>2.797120e+05</td>\n",
       "      <td>2.797120e+05</td>\n",
       "      <td>150930.000000</td>\n",
       "      <td>166625.000000</td>\n",
       "      <td>279547.000000</td>\n",
       "      <td>279712.000000</td>\n",
       "      <td>279712.000000</td>\n",
       "      <td>279712.000000</td>\n",
       "      <td>250277.000000</td>\n",
       "      <td>279712.000000</td>\n",
       "      <td>279712.000000</td>\n",
       "      <td>2.797120e+05</td>\n",
       "      <td>188307.000000</td>\n",
       "      <td>187999.000000</td>\n",
       "      <td>188047.000000</td>\n",
       "      <td>187941.000000</td>\n",
       "      <td>188025.000000</td>\n",
       "      <td>187937.000000</td>\n",
       "      <td>187927.000000</td>\n",
       "    </tr>\n",
       "    <tr>\n",
       "      <th>mean</th>\n",
       "      <td>2.638196e+07</td>\n",
       "      <td>1.081658e+08</td>\n",
       "      <td>0.865939</td>\n",
       "      <td>0.827168</td>\n",
       "      <td>24.581612</td>\n",
       "      <td>18.761862</td>\n",
       "      <td>12.595075</td>\n",
       "      <td>3.288736</td>\n",
       "      <td>1.515509</td>\n",
       "      <td>608.792737</td>\n",
       "      <td>8.050967</td>\n",
       "      <td>2.755860e+04</td>\n",
       "      <td>93.405195</td>\n",
       "      <td>9.565476</td>\n",
       "      <td>9.312869</td>\n",
       "      <td>9.701534</td>\n",
       "      <td>9.698593</td>\n",
       "      <td>9.633994</td>\n",
       "      <td>9.335364</td>\n",
       "    </tr>\n",
       "    <tr>\n",
       "      <th>std</th>\n",
       "      <td>1.442576e+07</td>\n",
       "      <td>1.108570e+08</td>\n",
       "      <td>0.283744</td>\n",
       "      <td>0.289202</td>\n",
       "      <td>284.041143</td>\n",
       "      <td>32.560343</td>\n",
       "      <td>73.081309</td>\n",
       "      <td>2.133379</td>\n",
       "      <td>1.153080</td>\n",
       "      <td>3441.826611</td>\n",
       "      <td>31.518946</td>\n",
       "      <td>7.282875e+06</td>\n",
       "      <td>10.070437</td>\n",
       "      <td>0.990878</td>\n",
       "      <td>1.146072</td>\n",
       "      <td>0.867434</td>\n",
       "      <td>0.886884</td>\n",
       "      <td>0.833234</td>\n",
       "      <td>1.042625</td>\n",
       "    </tr>\n",
       "    <tr>\n",
       "      <th>min</th>\n",
       "      <td>2.577000e+03</td>\n",
       "      <td>1.822000e+03</td>\n",
       "      <td>0.000000</td>\n",
       "      <td>0.000000</td>\n",
       "      <td>0.000000</td>\n",
       "      <td>-34.264400</td>\n",
       "      <td>-99.339630</td>\n",
       "      <td>0.000000</td>\n",
       "      <td>1.000000</td>\n",
       "      <td>0.000000</td>\n",
       "      <td>1.000000</td>\n",
       "      <td>1.000000e+00</td>\n",
       "      <td>20.000000</td>\n",
       "      <td>2.000000</td>\n",
       "      <td>2.000000</td>\n",
       "      <td>2.000000</td>\n",
       "      <td>2.000000</td>\n",
       "      <td>2.000000</td>\n",
       "      <td>2.000000</td>\n",
       "    </tr>\n",
       "    <tr>\n",
       "      <th>25%</th>\n",
       "      <td>1.384462e+07</td>\n",
       "      <td>1.720656e+07</td>\n",
       "      <td>0.900000</td>\n",
       "      <td>0.780000</td>\n",
       "      <td>1.000000</td>\n",
       "      <td>-22.964390</td>\n",
       "      <td>-43.198040</td>\n",
       "      <td>2.000000</td>\n",
       "      <td>1.000000</td>\n",
       "      <td>75.000000</td>\n",
       "      <td>1.000000</td>\n",
       "      <td>4.500000e+01</td>\n",
       "      <td>91.000000</td>\n",
       "      <td>9.000000</td>\n",
       "      <td>9.000000</td>\n",
       "      <td>10.000000</td>\n",
       "      <td>10.000000</td>\n",
       "      <td>9.000000</td>\n",
       "      <td>9.000000</td>\n",
       "    </tr>\n",
       "    <tr>\n",
       "      <th>50%</th>\n",
       "      <td>2.767098e+07</td>\n",
       "      <td>5.826911e+07</td>\n",
       "      <td>1.000000</td>\n",
       "      <td>0.980000</td>\n",
       "      <td>1.000000</td>\n",
       "      <td>40.710785</td>\n",
       "      <td>2.382780</td>\n",
       "      <td>2.000000</td>\n",
       "      <td>1.000000</td>\n",
       "      <td>150.000000</td>\n",
       "      <td>2.000000</td>\n",
       "      <td>1.125000e+03</td>\n",
       "      <td>96.000000</td>\n",
       "      <td>10.000000</td>\n",
       "      <td>10.000000</td>\n",
       "      <td>10.000000</td>\n",
       "      <td>10.000000</td>\n",
       "      <td>10.000000</td>\n",
       "      <td>10.000000</td>\n",
       "    </tr>\n",
       "    <tr>\n",
       "      <th>75%</th>\n",
       "      <td>3.978485e+07</td>\n",
       "      <td>1.832853e+08</td>\n",
       "      <td>1.000000</td>\n",
       "      <td>1.000000</td>\n",
       "      <td>4.000000</td>\n",
       "      <td>41.908610</td>\n",
       "      <td>28.986730</td>\n",
       "      <td>4.000000</td>\n",
       "      <td>2.000000</td>\n",
       "      <td>474.000000</td>\n",
       "      <td>5.000000</td>\n",
       "      <td>1.125000e+03</td>\n",
       "      <td>100.000000</td>\n",
       "      <td>10.000000</td>\n",
       "      <td>10.000000</td>\n",
       "      <td>10.000000</td>\n",
       "      <td>10.000000</td>\n",
       "      <td>10.000000</td>\n",
       "      <td>10.000000</td>\n",
       "    </tr>\n",
       "    <tr>\n",
       "      <th>max</th>\n",
       "      <td>4.834353e+07</td>\n",
       "      <td>3.901874e+08</td>\n",
       "      <td>1.000000</td>\n",
       "      <td>1.000000</td>\n",
       "      <td>7235.000000</td>\n",
       "      <td>48.904910</td>\n",
       "      <td>151.339810</td>\n",
       "      <td>16.000000</td>\n",
       "      <td>50.000000</td>\n",
       "      <td>625216.000000</td>\n",
       "      <td>9999.000000</td>\n",
       "      <td>2.147484e+09</td>\n",
       "      <td>100.000000</td>\n",
       "      <td>10.000000</td>\n",
       "      <td>10.000000</td>\n",
       "      <td>10.000000</td>\n",
       "      <td>10.000000</td>\n",
       "      <td>10.000000</td>\n",
       "      <td>10.000000</td>\n",
       "    </tr>\n",
       "  </tbody>\n",
       "</table>\n",
       "</div>"
      ],
      "text/plain": [
       "         listing_id       host_id  host_response_rate  host_acceptance_rate  \\\n",
       "count  2.797120e+05  2.797120e+05       150930.000000         166625.000000   \n",
       "mean   2.638196e+07  1.081658e+08            0.865939              0.827168   \n",
       "std    1.442576e+07  1.108570e+08            0.283744              0.289202   \n",
       "min    2.577000e+03  1.822000e+03            0.000000              0.000000   \n",
       "25%    1.384462e+07  1.720656e+07            0.900000              0.780000   \n",
       "50%    2.767098e+07  5.826911e+07            1.000000              0.980000   \n",
       "75%    3.978485e+07  1.832853e+08            1.000000              1.000000   \n",
       "max    4.834353e+07  3.901874e+08            1.000000              1.000000   \n",
       "\n",
       "       host_total_listings_count       latitude      longitude   accommodates  \\\n",
       "count              279547.000000  279712.000000  279712.000000  279712.000000   \n",
       "mean                   24.581612      18.761862      12.595075       3.288736   \n",
       "std                   284.041143      32.560343      73.081309       2.133379   \n",
       "min                     0.000000     -34.264400     -99.339630       0.000000   \n",
       "25%                     1.000000     -22.964390     -43.198040       2.000000   \n",
       "50%                     1.000000      40.710785       2.382780       2.000000   \n",
       "75%                     4.000000      41.908610      28.986730       4.000000   \n",
       "max                  7235.000000      48.904910     151.339810      16.000000   \n",
       "\n",
       "            bedrooms          price  minimum_nights  maximum_nights  \\\n",
       "count  250277.000000  279712.000000   279712.000000    2.797120e+05   \n",
       "mean        1.515509     608.792737        8.050967    2.755860e+04   \n",
       "std         1.153080    3441.826611       31.518946    7.282875e+06   \n",
       "min         1.000000       0.000000        1.000000    1.000000e+00   \n",
       "25%         1.000000      75.000000        1.000000    4.500000e+01   \n",
       "50%         1.000000     150.000000        2.000000    1.125000e+03   \n",
       "75%         2.000000     474.000000        5.000000    1.125000e+03   \n",
       "max        50.000000  625216.000000     9999.000000    2.147484e+09   \n",
       "\n",
       "       review_scores_rating  review_scores_accuracy  \\\n",
       "count         188307.000000           187999.000000   \n",
       "mean              93.405195                9.565476   \n",
       "std               10.070437                0.990878   \n",
       "min               20.000000                2.000000   \n",
       "25%               91.000000                9.000000   \n",
       "50%               96.000000               10.000000   \n",
       "75%              100.000000               10.000000   \n",
       "max              100.000000               10.000000   \n",
       "\n",
       "       review_scores_cleanliness  review_scores_checkin  \\\n",
       "count              188047.000000          187941.000000   \n",
       "mean                    9.312869               9.701534   \n",
       "std                     1.146072               0.867434   \n",
       "min                     2.000000               2.000000   \n",
       "25%                     9.000000              10.000000   \n",
       "50%                    10.000000              10.000000   \n",
       "75%                    10.000000              10.000000   \n",
       "max                    10.000000              10.000000   \n",
       "\n",
       "       review_scores_communication  review_scores_location  \\\n",
       "count                188025.000000           187937.000000   \n",
       "mean                      9.698593                9.633994   \n",
       "std                       0.886884                0.833234   \n",
       "min                       2.000000                2.000000   \n",
       "25%                      10.000000                9.000000   \n",
       "50%                      10.000000               10.000000   \n",
       "75%                      10.000000               10.000000   \n",
       "max                      10.000000               10.000000   \n",
       "\n",
       "       review_scores_value  \n",
       "count        187927.000000  \n",
       "mean              9.335364  \n",
       "std               1.042625  \n",
       "min               2.000000  \n",
       "25%               9.000000  \n",
       "50%              10.000000  \n",
       "75%              10.000000  \n",
       "max              10.000000  "
      ]
     },
     "execution_count": 9,
     "metadata": {},
     "output_type": "execute_result"
    }
   ],
   "source": [
    "# some descriptive stats\n",
    "air_df.describe()"
   ]
  },
  {
   "cell_type": "code",
   "execution_count": null,
   "id": "c3521d14-346f-46c7-b1b8-9cb281e1d862",
   "metadata": {},
   "outputs": [],
   "source": []
  },
  {
   "cell_type": "code",
   "execution_count": 11,
   "id": "0e426b64-ec49-4879-9f95-10728eb201b0",
   "metadata": {},
   "outputs": [
    {
     "data": {
      "text/html": [
       "<div>\n",
       "<style scoped>\n",
       "    .dataframe tbody tr th:only-of-type {\n",
       "        vertical-align: middle;\n",
       "    }\n",
       "\n",
       "    .dataframe tbody tr th {\n",
       "        vertical-align: top;\n",
       "    }\n",
       "\n",
       "    .dataframe thead th {\n",
       "        text-align: right;\n",
       "    }\n",
       "</style>\n",
       "<table border=\"1\" class=\"dataframe\">\n",
       "  <thead>\n",
       "    <tr style=\"text-align: right;\">\n",
       "      <th></th>\n",
       "      <th>listing_id</th>\n",
       "      <th>name</th>\n",
       "      <th>host_id</th>\n",
       "      <th>host_since</th>\n",
       "      <th>host_location</th>\n",
       "      <th>host_response_time</th>\n",
       "      <th>host_response_rate</th>\n",
       "      <th>host_acceptance_rate</th>\n",
       "      <th>host_is_superhost</th>\n",
       "      <th>host_total_listings_count</th>\n",
       "      <th>...</th>\n",
       "      <th>minimum_nights</th>\n",
       "      <th>maximum_nights</th>\n",
       "      <th>review_scores_rating</th>\n",
       "      <th>review_scores_accuracy</th>\n",
       "      <th>review_scores_cleanliness</th>\n",
       "      <th>review_scores_checkin</th>\n",
       "      <th>review_scores_communication</th>\n",
       "      <th>review_scores_location</th>\n",
       "      <th>review_scores_value</th>\n",
       "      <th>instant_bookable</th>\n",
       "    </tr>\n",
       "  </thead>\n",
       "  <tbody>\n",
       "    <tr>\n",
       "      <th>0</th>\n",
       "      <td>281420</td>\n",
       "      <td>Beautiful Flat in le Village Montmartre, Paris</td>\n",
       "      <td>1466919</td>\n",
       "      <td>2011-12-03</td>\n",
       "      <td>Paris, Ile-de-France, France</td>\n",
       "      <td>&lt;NA&gt;</td>\n",
       "      <td>NaN</td>\n",
       "      <td>NaN</td>\n",
       "      <td>f</td>\n",
       "      <td>1.0</td>\n",
       "      <td>...</td>\n",
       "      <td>2</td>\n",
       "      <td>1125</td>\n",
       "      <td>100.0</td>\n",
       "      <td>10.0</td>\n",
       "      <td>10.0</td>\n",
       "      <td>10.0</td>\n",
       "      <td>10.0</td>\n",
       "      <td>10.0</td>\n",
       "      <td>10.0</td>\n",
       "      <td>f</td>\n",
       "    </tr>\n",
       "    <tr>\n",
       "      <th>1</th>\n",
       "      <td>3705183</td>\n",
       "      <td>39 mÃÂ² Paris (Sacre CÃ",
       "âur)</td>\n",
       "      <td>10328771</td>\n",
       "      <td>2013-11-29</td>\n",
       "      <td>Paris, Ile-de-France, France</td>\n",
       "      <td>&lt;NA&gt;</td>\n",
       "      <td>NaN</td>\n",
       "      <td>NaN</td>\n",
       "      <td>f</td>\n",
       "      <td>1.0</td>\n",
       "      <td>...</td>\n",
       "      <td>2</td>\n",
       "      <td>1125</td>\n",
       "      <td>100.0</td>\n",
       "      <td>10.0</td>\n",
       "      <td>10.0</td>\n",
       "      <td>10.0</td>\n",
       "      <td>10.0</td>\n",
       "      <td>10.0</td>\n",
       "      <td>10.0</td>\n",
       "      <td>f</td>\n",
       "    </tr>\n",
       "    <tr>\n",
       "      <th>2</th>\n",
       "      <td>4082273</td>\n",
       "      <td>Lovely apartment with Terrace, 60m2</td>\n",
       "      <td>19252768</td>\n",
       "      <td>2014-07-31</td>\n",
       "      <td>Paris, Ile-de-France, France</td>\n",
       "      <td>&lt;NA&gt;</td>\n",
       "      <td>NaN</td>\n",
       "      <td>NaN</td>\n",
       "      <td>f</td>\n",
       "      <td>1.0</td>\n",
       "      <td>...</td>\n",
       "      <td>2</td>\n",
       "      <td>1125</td>\n",
       "      <td>100.0</td>\n",
       "      <td>10.0</td>\n",
       "      <td>10.0</td>\n",
       "      <td>10.0</td>\n",
       "      <td>10.0</td>\n",
       "      <td>10.0</td>\n",
       "      <td>10.0</td>\n",
       "      <td>f</td>\n",
       "    </tr>\n",
       "    <tr>\n",
       "      <th>3</th>\n",
       "      <td>4797344</td>\n",
       "      <td>Cosy studio (close to Eiffel tower)</td>\n",
       "      <td>10668311</td>\n",
       "      <td>2013-12-17</td>\n",
       "      <td>Paris, Ile-de-France, France</td>\n",
       "      <td>&lt;NA&gt;</td>\n",
       "      <td>NaN</td>\n",
       "      <td>NaN</td>\n",
       "      <td>f</td>\n",
       "      <td>1.0</td>\n",
       "      <td>...</td>\n",
       "      <td>2</td>\n",
       "      <td>1125</td>\n",
       "      <td>100.0</td>\n",
       "      <td>10.0</td>\n",
       "      <td>10.0</td>\n",
       "      <td>10.0</td>\n",
       "      <td>10.0</td>\n",
       "      <td>10.0</td>\n",
       "      <td>10.0</td>\n",
       "      <td>f</td>\n",
       "    </tr>\n",
       "    <tr>\n",
       "      <th>4</th>\n",
       "      <td>4823489</td>\n",
       "      <td>Close to Eiffel Tower - Beautiful flat : 2 rooms</td>\n",
       "      <td>24837558</td>\n",
       "      <td>2014-12-14</td>\n",
       "      <td>Paris, Ile-de-France, France</td>\n",
       "      <td>&lt;NA&gt;</td>\n",
       "      <td>NaN</td>\n",
       "      <td>NaN</td>\n",
       "      <td>f</td>\n",
       "      <td>1.0</td>\n",
       "      <td>...</td>\n",
       "      <td>2</td>\n",
       "      <td>1125</td>\n",
       "      <td>100.0</td>\n",
       "      <td>10.0</td>\n",
       "      <td>10.0</td>\n",
       "      <td>10.0</td>\n",
       "      <td>10.0</td>\n",
       "      <td>10.0</td>\n",
       "      <td>10.0</td>\n",
       "      <td>f</td>\n",
       "    </tr>\n",
       "    <tr>\n",
       "      <th>...</th>\n",
       "      <td>...</td>\n",
       "      <td>...</td>\n",
       "      <td>...</td>\n",
       "      <td>...</td>\n",
       "      <td>...</td>\n",
       "      <td>...</td>\n",
       "      <td>...</td>\n",
       "      <td>...</td>\n",
       "      <td>...</td>\n",
       "      <td>...</td>\n",
       "      <td>...</td>\n",
       "      <td>...</td>\n",
       "      <td>...</td>\n",
       "      <td>...</td>\n",
       "      <td>...</td>\n",
       "      <td>...</td>\n",
       "      <td>...</td>\n",
       "      <td>...</td>\n",
       "      <td>...</td>\n",
       "      <td>...</td>\n",
       "      <td>...</td>\n",
       "    </tr>\n",
       "    <tr>\n",
       "      <th>279707</th>\n",
       "      <td>38338635</td>\n",
       "      <td>Appartement T2 neuf prÃÂ¨s du tram T3a Porte ...</td>\n",
       "      <td>31161181</td>\n",
       "      <td>2015-04-13</td>\n",
       "      <td>Paris, Ile-de-France, France</td>\n",
       "      <td>&lt;NA&gt;</td>\n",
       "      <td>NaN</td>\n",
       "      <td>NaN</td>\n",
       "      <td>f</td>\n",
       "      <td>1.0</td>\n",
       "      <td>...</td>\n",
       "      <td>1</td>\n",
       "      <td>7</td>\n",
       "      <td>100.0</td>\n",
       "      <td>10.0</td>\n",
       "      <td>10.0</td>\n",
       "      <td>10.0</td>\n",
       "      <td>10.0</td>\n",
       "      <td>10.0</td>\n",
       "      <td>10.0</td>\n",
       "      <td>f</td>\n",
       "    </tr>\n",
       "    <tr>\n",
       "      <th>279708</th>\n",
       "      <td>38538692</td>\n",
       "      <td>Cozy Studio in Montmartre</td>\n",
       "      <td>10294858</td>\n",
       "      <td>2013-11-27</td>\n",
       "      <td>Paris, Ile-de-France, France</td>\n",
       "      <td>&lt;NA&gt;</td>\n",
       "      <td>NaN</td>\n",
       "      <td>NaN</td>\n",
       "      <td>f</td>\n",
       "      <td>1.0</td>\n",
       "      <td>...</td>\n",
       "      <td>7</td>\n",
       "      <td>15</td>\n",
       "      <td>100.0</td>\n",
       "      <td>10.0</td>\n",
       "      <td>10.0</td>\n",
       "      <td>10.0</td>\n",
       "      <td>10.0</td>\n",
       "      <td>10.0</td>\n",
       "      <td>10.0</td>\n",
       "      <td>f</td>\n",
       "    </tr>\n",
       "    <tr>\n",
       "      <th>279709</th>\n",
       "      <td>38683356</td>\n",
       "      <td>Nice and cosy mini-appartement in Paris</td>\n",
       "      <td>2238502</td>\n",
       "      <td>2012-04-27</td>\n",
       "      <td>Paris, Ile-de-France, France</td>\n",
       "      <td>&lt;NA&gt;</td>\n",
       "      <td>NaN</td>\n",
       "      <td>NaN</td>\n",
       "      <td>f</td>\n",
       "      <td>1.0</td>\n",
       "      <td>...</td>\n",
       "      <td>6</td>\n",
       "      <td>30</td>\n",
       "      <td>100.0</td>\n",
       "      <td>10.0</td>\n",
       "      <td>10.0</td>\n",
       "      <td>10.0</td>\n",
       "      <td>10.0</td>\n",
       "      <td>10.0</td>\n",
       "      <td>10.0</td>\n",
       "      <td>f</td>\n",
       "    </tr>\n",
       "    <tr>\n",
       "      <th>279710</th>\n",
       "      <td>39659000</td>\n",
       "      <td>Charming apartment near Rue Saint Maur / Oberk...</td>\n",
       "      <td>38633695</td>\n",
       "      <td>2015-07-16</td>\n",
       "      <td>Paris, Ile-de-France, France</td>\n",
       "      <td>&lt;NA&gt;</td>\n",
       "      <td>NaN</td>\n",
       "      <td>NaN</td>\n",
       "      <td>f</td>\n",
       "      <td>1.0</td>\n",
       "      <td>...</td>\n",
       "      <td>3</td>\n",
       "      <td>18</td>\n",
       "      <td>100.0</td>\n",
       "      <td>10.0</td>\n",
       "      <td>10.0</td>\n",
       "      <td>10.0</td>\n",
       "      <td>10.0</td>\n",
       "      <td>10.0</td>\n",
       "      <td>10.0</td>\n",
       "      <td>f</td>\n",
       "    </tr>\n",
       "    <tr>\n",
       "      <th>279711</th>\n",
       "      <td>40219504</td>\n",
       "      <td>Cosy apartment with view on Canal St Martin</td>\n",
       "      <td>6955618</td>\n",
       "      <td>2013-06-17</td>\n",
       "      <td>Paris, Ile-de-France, France</td>\n",
       "      <td>&lt;NA&gt;</td>\n",
       "      <td>NaN</td>\n",
       "      <td>NaN</td>\n",
       "      <td>f</td>\n",
       "      <td>1.0</td>\n",
       "      <td>...</td>\n",
       "      <td>2</td>\n",
       "      <td>4</td>\n",
       "      <td>100.0</td>\n",
       "      <td>10.0</td>\n",
       "      <td>10.0</td>\n",
       "      <td>10.0</td>\n",
       "      <td>10.0</td>\n",
       "      <td>10.0</td>\n",
       "      <td>10.0</td>\n",
       "      <td>f</td>\n",
       "    </tr>\n",
       "  </tbody>\n",
       "</table>\n",
       "<p>279712 rows × 33 columns</p>\n",
       "</div>"
      ],
      "text/plain": [
       "        listing_id                                               name  \\\n",
       "0           281420     Beautiful Flat in le Village Montmartre, Paris   \n",
       "1          3705183                    39 mÃÂ² Paris (Sacre CÃ\n",
       "âur)   \n",
       "2          4082273                Lovely apartment with Terrace, 60m2   \n",
       "3          4797344                Cosy studio (close to Eiffel tower)   \n",
       "4          4823489   Close to Eiffel Tower - Beautiful flat : 2 rooms   \n",
       "...            ...                                                ...   \n",
       "279707    38338635  Appartement T2 neuf prÃÂ¨s du tram T3a Porte ...   \n",
       "279708    38538692                          Cozy Studio in Montmartre   \n",
       "279709    38683356            Nice and cosy mini-appartement in Paris   \n",
       "279710    39659000  Charming apartment near Rue Saint Maur / Oberk...   \n",
       "279711    40219504        Cosy apartment with view on Canal St Martin   \n",
       "\n",
       "         host_id  host_since                 host_location host_response_time  \\\n",
       "0        1466919  2011-12-03  Paris, Ile-de-France, France               <NA>   \n",
       "1       10328771  2013-11-29  Paris, Ile-de-France, France               <NA>   \n",
       "2       19252768  2014-07-31  Paris, Ile-de-France, France               <NA>   \n",
       "3       10668311  2013-12-17  Paris, Ile-de-France, France               <NA>   \n",
       "4       24837558  2014-12-14  Paris, Ile-de-France, France               <NA>   \n",
       "...          ...         ...                           ...                ...   \n",
       "279707  31161181  2015-04-13  Paris, Ile-de-France, France               <NA>   \n",
       "279708  10294858  2013-11-27  Paris, Ile-de-France, France               <NA>   \n",
       "279709   2238502  2012-04-27  Paris, Ile-de-France, France               <NA>   \n",
       "279710  38633695  2015-07-16  Paris, Ile-de-France, France               <NA>   \n",
       "279711   6955618  2013-06-17  Paris, Ile-de-France, France               <NA>   \n",
       "\n",
       "        host_response_rate  host_acceptance_rate host_is_superhost  \\\n",
       "0                      NaN                   NaN                 f   \n",
       "1                      NaN                   NaN                 f   \n",
       "2                      NaN                   NaN                 f   \n",
       "3                      NaN                   NaN                 f   \n",
       "4                      NaN                   NaN                 f   \n",
       "...                    ...                   ...               ...   \n",
       "279707                 NaN                   NaN                 f   \n",
       "279708                 NaN                   NaN                 f   \n",
       "279709                 NaN                   NaN                 f   \n",
       "279710                 NaN                   NaN                 f   \n",
       "279711                 NaN                   NaN                 f   \n",
       "\n",
       "        host_total_listings_count  ... minimum_nights maximum_nights  \\\n",
       "0                             1.0  ...              2           1125   \n",
       "1                             1.0  ...              2           1125   \n",
       "2                             1.0  ...              2           1125   \n",
       "3                             1.0  ...              2           1125   \n",
       "4                             1.0  ...              2           1125   \n",
       "...                           ...  ...            ...            ...   \n",
       "279707                        1.0  ...              1              7   \n",
       "279708                        1.0  ...              7             15   \n",
       "279709                        1.0  ...              6             30   \n",
       "279710                        1.0  ...              3             18   \n",
       "279711                        1.0  ...              2              4   \n",
       "\n",
       "       review_scores_rating review_scores_accuracy review_scores_cleanliness  \\\n",
       "0                     100.0                   10.0                      10.0   \n",
       "1                     100.0                   10.0                      10.0   \n",
       "2                     100.0                   10.0                      10.0   \n",
       "3                     100.0                   10.0                      10.0   \n",
       "4                     100.0                   10.0                      10.0   \n",
       "...                     ...                    ...                       ...   \n",
       "279707                100.0                   10.0                      10.0   \n",
       "279708                100.0                   10.0                      10.0   \n",
       "279709                100.0                   10.0                      10.0   \n",
       "279710                100.0                   10.0                      10.0   \n",
       "279711                100.0                   10.0                      10.0   \n",
       "\n",
       "        review_scores_checkin  review_scores_communication  \\\n",
       "0                        10.0                         10.0   \n",
       "1                        10.0                         10.0   \n",
       "2                        10.0                         10.0   \n",
       "3                        10.0                         10.0   \n",
       "4                        10.0                         10.0   \n",
       "...                       ...                          ...   \n",
       "279707                   10.0                         10.0   \n",
       "279708                   10.0                         10.0   \n",
       "279709                   10.0                         10.0   \n",
       "279710                   10.0                         10.0   \n",
       "279711                   10.0                         10.0   \n",
       "\n",
       "       review_scores_location review_scores_value  instant_bookable  \n",
       "0                        10.0                10.0                 f  \n",
       "1                        10.0                10.0                 f  \n",
       "2                        10.0                10.0                 f  \n",
       "3                        10.0                10.0                 f  \n",
       "4                        10.0                10.0                 f  \n",
       "...                       ...                 ...               ...  \n",
       "279707                   10.0                10.0                 f  \n",
       "279708                   10.0                10.0                 f  \n",
       "279709                   10.0                10.0                 f  \n",
       "279710                   10.0                10.0                 f  \n",
       "279711                   10.0                10.0                 f  \n",
       "\n",
       "[279712 rows x 33 columns]"
      ]
     },
     "execution_count": 11,
     "metadata": {},
     "output_type": "execute_result"
    }
   ],
   "source": [
    "air_df"
   ]
  },
  {
   "cell_type": "markdown",
   "id": "470ff324-5465-4ff9-962b-bbe55e19d0fa",
   "metadata": {},
   "source": [
    "## Calculate missing values"
   ]
  },
  {
   "cell_type": "code",
   "execution_count": 13,
   "id": "83fed3a3-4f4d-4b58-93ac-5e6468c07352",
   "metadata": {},
   "outputs": [
    {
     "name": "stdout",
     "output_type": "stream",
     "text": [
      "listing_id                     279712\n",
      "name                           279539\n",
      "host_id                        279712\n",
      "host_since                     279547\n",
      "host_location                  278872\n",
      "host_response_time             150930\n",
      "host_response_rate             150930\n",
      "host_acceptance_rate           166625\n",
      "host_is_superhost              279547\n",
      "host_total_listings_count      279547\n",
      "host_has_profile_pic           279547\n",
      "host_identity_verified         279547\n",
      "neighbourhood                  279712\n",
      "district                        37012\n",
      "city                           279712\n",
      "latitude                       279712\n",
      "longitude                      279712\n",
      "property_type                  279712\n",
      "room_type                      279712\n",
      "accommodates                   279712\n",
      "bedrooms                       250277\n",
      "amenities                      279712\n",
      "price                          279712\n",
      "minimum_nights                 279712\n",
      "maximum_nights                 279712\n",
      "review_scores_rating           188307\n",
      "review_scores_accuracy         187999\n",
      "review_scores_cleanliness      188047\n",
      "review_scores_checkin          187941\n",
      "review_scores_communication    188025\n",
      "review_scores_location         187937\n",
      "review_scores_value            187927\n",
      "instant_bookable               279712\n",
      "dtype: int64\n"
     ]
    }
   ],
   "source": [
    "# count non-missing values\n",
    "print(air_df.count())"
   ]
  },
  {
   "cell_type": "code",
   "execution_count": null,
   "id": "0c37574e-e68c-4d06-af4c-05c76a5fc42e",
   "metadata": {},
   "outputs": [],
   "source": []
  },
  {
   "cell_type": "code",
   "execution_count": 14,
   "id": "a4043e5e-39c1-44f3-91d3-c0dd51101d25",
   "metadata": {
    "tags": []
   },
   "outputs": [],
   "source": [
    "# subtract non-missing from total"
   ]
  },
  {
   "cell_type": "code",
   "execution_count": 15,
   "id": "eb248065-0f1b-4d7a-ab4b-aa9d3d2be54a",
   "metadata": {},
   "outputs": [],
   "source": [
    "num_rows= air_df.shape[0]"
   ]
  },
  {
   "cell_type": "code",
   "execution_count": 16,
   "id": "08f0fb67-6c27-46dc-a4e0-f24686faf77b",
   "metadata": {},
   "outputs": [
    {
     "name": "stdout",
     "output_type": "stream",
     "text": [
      "279712\n"
     ]
    }
   ],
   "source": [
    "print(num_rows)"
   ]
  },
  {
   "cell_type": "code",
   "execution_count": 17,
   "id": "7f8dbf8b-aa98-468f-8672-759a2ef4a675",
   "metadata": {},
   "outputs": [],
   "source": [
    "num_missing = num_rows - air_df.count()"
   ]
  },
  {
   "cell_type": "markdown",
   "id": "976f7824-f292-448c-889e-2e9ac381c29c",
   "metadata": {},
   "source": [
    "### Missing Values"
   ]
  },
  {
   "cell_type": "code",
   "execution_count": 18,
   "id": "aaf37fcb-07da-4240-8b2e-8d25fbe026a5",
   "metadata": {},
   "outputs": [
    {
     "name": "stdout",
     "output_type": "stream",
     "text": [
      "listing_id                          0\n",
      "name                              173\n",
      "host_id                             0\n",
      "host_since                        165\n",
      "host_location                     840\n",
      "host_response_time             128782\n",
      "host_response_rate             128782\n",
      "host_acceptance_rate           113087\n",
      "host_is_superhost                 165\n",
      "host_total_listings_count         165\n",
      "host_has_profile_pic              165\n",
      "host_identity_verified            165\n",
      "neighbourhood                       0\n",
      "district                       242700\n",
      "city                                0\n",
      "latitude                            0\n",
      "longitude                           0\n",
      "property_type                       0\n",
      "room_type                           0\n",
      "accommodates                        0\n",
      "bedrooms                        29435\n",
      "amenities                           0\n",
      "price                               0\n",
      "minimum_nights                      0\n",
      "maximum_nights                      0\n",
      "review_scores_rating            91405\n",
      "review_scores_accuracy          91713\n",
      "review_scores_cleanliness       91665\n",
      "review_scores_checkin           91771\n",
      "review_scores_communication     91687\n",
      "review_scores_location          91775\n",
      "review_scores_value             91785\n",
      "instant_bookable                    0\n",
      "dtype: int64\n"
     ]
    }
   ],
   "source": [
    "# MISSING VALUES\n",
    "print(num_missing)"
   ]
  },
  {
   "cell_type": "markdown",
   "id": "149763c0-a9b4-49db-abde-bf93e19c6491",
   "metadata": {},
   "source": [
    "## Deal with outliers"
   ]
  },
  {
   "cell_type": "markdown",
   "id": "cf74baf5-89cb-44e9-aab3-b0911aa46bfa",
   "metadata": {},
   "source": [
    "### Plots with outliers"
   ]
  },
  {
   "cell_type": "code",
   "execution_count": 20,
   "id": "9491b6c2-f358-403a-b2c3-d41dbf75dd7c",
   "metadata": {},
   "outputs": [],
   "source": [
    "# make a boxplot function\n",
    "def plot_boxplot(df, ft):\n",
    "    df.boxplot(column=[ft])\n",
    "    plt.grid(False)\n",
    "    plt.show()\n",
    "    \n"
   ]
  },
  {
   "cell_type": "code",
   "execution_count": 21,
   "id": "59fa7f5a-aa0d-4a39-908c-f3b12a519a95",
   "metadata": {},
   "outputs": [
    {
     "data": {
      "image/png": "[encoded data removed]",
      "text/plain": [
       "<Figure size 432x288 with 1 Axes>"
      ]
     },
     "metadata": {
      "needs_background": "light"
     },
     "output_type": "display_data"
    }
   ],
   "source": [
    "plot_boxplot(air_df, \"price\")"
   ]
  },
  {
   "cell_type": "code",
   "execution_count": 22,
   "id": "207cd588-7cbc-430f-9692-c0c7e7e66f02",
   "metadata": {},
   "outputs": [
    {
     "data": {
      "text/plain": [
       "array([[<AxesSubplot:title={'center':'price'}>]], dtype=object)"
      ]
     },
     "execution_count": 22,
     "metadata": {},
     "output_type": "execute_result"
    },
    {
     "data": {
      "image/png": "[encoded data removed]",
      "text/plain": [
       "<Figure size 432x288 with 1 Axes>"
      ]
     },
     "metadata": {
      "needs_background": "light"
     },
     "output_type": "display_data"
    }
   ],
   "source": [
    "air_df.hist(\"price\")"
   ]
  },
  {
   "cell_type": "markdown",
   "id": "a3e3c62e-99c8-4e24-a9d6-1d1858ee7ed8",
   "metadata": {
    "tags": []
   },
   "source": [
    "### Remove Outliers"
   ]
  },
  {
   "cell_type": "code",
   "execution_count": 23,
   "id": "84ff49a6-523a-4622-9ff1-27ef56f4237f",
   "metadata": {},
   "outputs": [],
   "source": [
    "# create a function to remove outliers (from a copy of the dataframe)\n",
    "def outliers(df, ft):\n",
    "    Q1=df[ft].quantile(0.25)\n",
    "    Q3=df[ft].quantile(0.75)\n",
    "    IQR = Q3 - Q1\n",
    "    lower_bound = Q1 - 1.5 * IQR\n",
    "    upper_bound = Q3 + 1.5 * IQR\n",
    "    ls = df.index[ (df[ft] < lower_bound) | (df[ft] > upper_bound) ]\n",
    "    return ls\n",
    "    "
   ]
  },
  {
   "cell_type": "code",
   "execution_count": 24,
   "id": "12d4a490-1c9b-45ec-a975-93954fc4560a",
   "metadata": {},
   "outputs": [],
   "source": [
    "# RAF to print bounds\n",
    "def outlier_print(df, ft):\n",
    "    Q1=df[ft].quantile(0.25)\n",
    "    Q3=df[ft].quantile(0.75)\n",
    "    IQR = Q3 - Q1\n",
    "    lower_bound = Q1 - 1.5 * IQR\n",
    "    upper_bound = Q3 + 1.5 * IQR\n",
    "    print(str(lower_bound) + \" \" + str(upper_bound))\n",
    "    # print(f\"lower{lower_bound} \")\n",
    "    return\n",
    "    "
   ]
  },
  {
   "cell_type": "code",
   "execution_count": 25,
   "id": "03539598-552e-4af6-b648-2b3ac620061d",
   "metadata": {},
   "outputs": [
    {
     "name": "stdout",
     "output_type": "stream",
     "text": [
      "-523.5 1072.5\n"
     ]
    }
   ],
   "source": [
    "outlier_print(air_df, 'price')"
   ]
  },
  {
   "cell_type": "code",
   "execution_count": null,
   "id": "918c7c68-18f1-48b9-8728-bdadc4092359",
   "metadata": {},
   "outputs": [],
   "source": []
  },
  {
   "cell_type": "code",
   "execution_count": 26,
   "id": "c762c2e4-7be4-4916-be1c-15e358f83278",
   "metadata": {},
   "outputs": [],
   "source": [
    "# RAF reate a function for upper outliers only, not used here\n",
    "def upper_outliers(df, ft):\n",
    "    Q1=df[ft].quantile(0.25)\n",
    "    Q3=df[ft].quantile(0.75)\n",
    "    IQR = Q3 -Q1\n",
    "    #lower_bound = Q1- 1.5 * IQR\n",
    "    upper_bound = Q3 + 1.5 * IQR\n",
    "    ls = df.index[ (df[ft] > upper_bound) ]\n",
    "    return ls"
   ]
  },
  {
   "cell_type": "code",
   "execution_count": 27,
   "id": "b7805396-2f17-47f9-af1d-973129fd848e",
   "metadata": {},
   "outputs": [],
   "source": [
    "# create a list of index numbers for outliers\n",
    "# can put more features in list additional to price\n",
    "index_list=[]\n",
    "for feature in [\"price\"]:\n",
    "   index_list.extend(outliers(air_df, feature ))"
   ]
  },
  {
   "cell_type": "code",
   "execution_count": 28,
   "id": "90d5d842-89c3-439a-8315-bbe339a85a08",
   "metadata": {},
   "outputs": [
    {
     "data": {
      "text/plain": [
       "31395"
      ]
     },
     "execution_count": 28,
     "metadata": {},
     "output_type": "execute_result"
    }
   ],
   "source": [
    "# no of outliers\n",
    "len(index_list)"
   ]
  },
  {
   "cell_type": "code",
   "execution_count": 29,
   "id": "d8e8cc06-9635-4b50-a79a-0eb199507d78",
   "metadata": {},
   "outputs": [],
   "source": [
    "# new function called remove which returns a cleaned dataframe without outliers"
   ]
  },
  {
   "cell_type": "code",
   "execution_count": 30,
   "id": "5051a1e0-c174-49ed-9fc3-7b74da9c7005",
   "metadata": {},
   "outputs": [],
   "source": [
    "def remove(df, ls):\n",
    "    # sort list and make unique\n",
    "    ls=sorted(set(ls))\n",
    "    df=df.drop(ls)\n",
    "    return df\n"
   ]
  },
  {
   "cell_type": "code",
   "execution_count": 31,
   "id": "f2f03ec5-3016-4d5d-be17-4c73761f5c11",
   "metadata": {},
   "outputs": [],
   "source": [
    "air_df_cleaned = remove(air_df, index_list)"
   ]
  },
  {
   "cell_type": "code",
   "execution_count": 32,
   "id": "bc5ebe98-5b78-496b-8f85-0ee646d92b47",
   "metadata": {},
   "outputs": [
    {
     "data": {
      "text/plain": [
       "(248317, 33)"
      ]
     },
     "execution_count": 32,
     "metadata": {},
     "output_type": "execute_result"
    }
   ],
   "source": [
    "air_df_cleaned.shape"
   ]
  },
  {
   "cell_type": "markdown",
   "id": "e94cd287-c366-4fdf-87c3-e4429d2ae9e1",
   "metadata": {},
   "source": [
    "### Output cleaned dataframe to CSV file"
   ]
  },
  {
   "cell_type": "code",
   "execution_count": 35,
   "id": "402e9819-df3b-4185-b235-32f3904cc02b",
   "metadata": {},
   "outputs": [],
   "source": [
    "# Output cleaned dataframe to CSV file -----------------------------------------------------------------------------\n",
    "# PC\n",
    "# air_df_cleaned.to_csv(\"C:/Users/conif/Documents/Airbnb_Data/Airbnb Data/Listings_cleaned.csv\", index=False)"
   ]
  },
  {
   "cell_type": "markdown",
   "id": "63d6d928-030b-40a5-b669-a21c04d3679a",
   "metadata": {
    "tags": []
   },
   "source": [
    "###  Plots without outliers"
   ]
  },
  {
   "cell_type": "code",
   "execution_count": 36,
   "id": "0c4933a5-a93e-477f-a553-cda439047daf",
   "metadata": {},
   "outputs": [
    {
     "data": {
      "image/png": "[encoded data removed]",
      "text/plain": [
       "<Figure size 432x288 with 1 Axes>"
      ]
     },
     "metadata": {
      "needs_background": "light"
     },
     "output_type": "display_data"
    }
   ],
   "source": [
    "plot_boxplot(air_df_cleaned, \"price\")"
   ]
  },
  {
   "cell_type": "code",
   "execution_count": 37,
   "id": "4a4b6309-8af3-4c16-bc6d-506f65916246",
   "metadata": {},
   "outputs": [
    {
     "data": {
      "text/plain": [
       "array([[<AxesSubplot:title={'center':'price'}>]], dtype=object)"
      ]
     },
     "execution_count": 37,
     "metadata": {},
     "output_type": "execute_result"
    },
    {
     "data": {
      "image/png": "[encoded data removed]",
      "text/plain": [
       "<Figure size 432x288 with 1 Axes>"
      ]
     },
     "metadata": {
      "needs_background": "light"
     },
     "output_type": "display_data"
    }
   ],
   "source": [
    "air_df_cleaned.hist(\"price\")"
   ]
  },
  {
   "cell_type": "code",
   "execution_count": 38,
   "id": "820bafdb-6015-44b0-a4d2-1c2f08db03cb",
   "metadata": {},
   "outputs": [
    {
     "data": {
      "text/plain": [
       "0          53\n",
       "1         120\n",
       "2          89\n",
       "3          58\n",
       "4          60\n",
       "         ... \n",
       "279707    120\n",
       "279708     60\n",
       "279709     50\n",
       "279710    105\n",
       "279711     70\n",
       "Name: price, Length: 248317, dtype: int64"
      ]
     },
     "execution_count": 38,
     "metadata": {},
     "output_type": "execute_result"
    }
   ],
   "source": [
    "air_df_cleaned['price']"
   ]
  },
  {
   "cell_type": "code",
   "execution_count": null,
   "id": "d0f50116-86d1-4625-8c9a-24801237f028",
   "metadata": {},
   "outputs": [],
   "source": []
  },
  {
   "cell_type": "code",
   "execution_count": null,
   "id": "72f34122-d73f-43ec-9287-9adcf2f5000d",
   "metadata": {},
   "outputs": [],
   "source": []
  }
 ],
 "metadata": {
  "kernelspec": {
   "display_name": "Python 3 (ipykernel)",
   "language": "python",
   "name": "python3"
  },
  "language_info": {
   "codemirror_mode": {
    "name": "ipython",
    "version": 3
   },
   "file_extension": ".py",
   "mimetype": "text/x-python",
   "name": "python",
   "nbconvert_exporter": "python",
   "pygments_lexer": "ipython3",
   "version": "3.9.7"
  }
 },
 "nbformat": 4,
 "nbformat_minor": 5
}
